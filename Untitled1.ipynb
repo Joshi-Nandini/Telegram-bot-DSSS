{
 "cells": [
  {
   "cell_type": "code",
   "execution_count": 10,
   "id": "5b6f977a-e94a-4de6-8b66-43effe55b41a",
   "metadata": {},
   "outputs": [],
   "source": [
    "import nest_asyncio\n",
    "import asyncio\n",
    "from telegram import Update\n",
    "from telegram.ext import Application, CommandHandler, MessageHandler, filters, ContextTypes\n",
    "from transformers import AutoModelForCausalLM, AutoTokenizer\n",
    "import torch\n"
   ]
  },
  {
   "cell_type": "code",
   "execution_count": 11,
   "id": "2ee16d02-bccf-4281-a38f-3fbb50cc8d4a",
   "metadata": {},
   "outputs": [],
   "source": [
    "# Apply nest_asyncio to allow asyncio in interactive environments\n",
    "nest_asyncio.apply()\n"
   ]
  },
  {
   "cell_type": "code",
   "execution_count": 12,
   "id": "3af30da3-c1b6-4aa8-a8be-537d97fce7ae",
   "metadata": {},
   "outputs": [],
   "source": [
    "# Load the model and tokenizer\n",
    "model_name = \"TinyLlama/TinyLlama-1.1B-Chat-v1.0\"  \n",
    "tokenizer = AutoTokenizer.from_pretrained(model_name)\n",
    "model = AutoModelForCausalLM.from_pretrained(model_name, torch_dtype=torch.float32)\n"
   ]
  },
  {
   "cell_type": "code",
   "execution_count": 13,
   "id": "76552d47-1e5e-47aa-afed-91724a0c4e76",
   "metadata": {},
   "outputs": [],
   "source": [
    "# Function to generate text from the model\n",
    "def generate_response(input_text):\n",
    "    # Tokenize the input text\n",
    "    inputs = tokenizer(input_text, return_tensors=\"pt\", truncation=True, padding=True)\n",
    "    \n",
    "    # Generate response from the model\n",
    "    outputs = model.generate(inputs.input_ids, max_length=150, num_return_sequences=1, do_sample=True)\n",
    "    \n",
    "    # Decode the output tokens into a string\n",
    "    response = tokenizer.decode(outputs[0], skip_special_tokens=True)\n",
    "    return response\n"
   ]
  },
  {
   "cell_type": "code",
   "execution_count": 14,
   "id": "b4e56c6e-d348-4cf6-adb0-7881e87134c8",
   "metadata": {},
   "outputs": [],
   "source": [
    "# Function to handle the /start command\n",
    "async def start(update: Update, context: ContextTypes.DEFAULT_TYPE):\n",
    "    await update.message.reply_text(\"Hi! Ask me anything about animals!\")\n"
   ]
  },
  {
   "cell_type": "code",
   "execution_count": 15,
   "id": "35128d1d-098e-4df6-9bab-d146e42fd312",
   "metadata": {},
   "outputs": [],
   "source": [
    "# Function to handle incoming messages\n",
    "async def process_message(update: Update, context: ContextTypes.DEFAULT_TYPE):\n",
    "    user_input = update.message.text\n",
    "    print(f\"User input: {user_input}\")\n",
    "\n",
    "    # Generate a response from the model\n",
    "    try:\n",
    "        response = generate_response(f\"Tell me some facts about {user_input}\")\n",
    "        await update.message.reply_text(response)\n",
    "    except Exception as e:\n",
    "        await update.message.reply_text(f\"Sorry, I encountered an error: {str(e)}\")\n"
   ]
  },
  {
   "cell_type": "code",
   "execution_count": 16,
   "id": "95871cdc-cf18-4552-a269-6a965beac228",
   "metadata": {},
   "outputs": [],
   "source": [
    "# Main function to start the bot\n",
    "async def main():\n",
    "    application = Application.builder().token(\"8196537994:AAHbDBzuopY9MATmAiob4VlurAudpSyXIds\").build()  # Replace with your bot token\n",
    "\n",
    "    # Add handlers\n",
    "    application.add_handler(CommandHandler(\"start\", start))\n",
    "    application.add_handler(MessageHandler(filters.TEXT & ~filters.COMMAND, process_message))\n",
    "\n",
    "    # Run the bot\n",
    "    await application.run_polling()\n"
   ]
  },
  {
   "cell_type": "code",
   "execution_count": 17,
   "id": "c2279996-425a-44a0-890a-a19d9abf52f9",
   "metadata": {},
   "outputs": [
    {
     "name": "stdout",
     "output_type": "stream",
     "text": [
      "User input: tell me some facts about Elephant\n",
      "User input: tell me some facts about fox\n",
      "User input: tell me some facts about fox\n"
     ]
    }
   ],
   "source": [
    "# Run the main function using the existing event loop\n",
    "if __name__ == \"__main__\":\n",
    "    asyncio.create_task(main())  # Instead of asyncio.run()\n"
   ]
  },
  {
   "cell_type": "code",
   "execution_count": null,
   "id": "a83ddf54-ae57-42e3-a24a-0b6aa31e7a80",
   "metadata": {},
   "outputs": [],
   "source": []
  }
 ],
 "metadata": {
  "kernelspec": {
   "display_name": "Python 3 (ipykernel)",
   "language": "python",
   "name": "python3"
  },
  "language_info": {
   "codemirror_mode": {
    "name": "ipython",
    "version": 3
   },
   "file_extension": ".py",
   "mimetype": "text/x-python",
   "name": "python",
   "nbconvert_exporter": "python",
   "pygments_lexer": "ipython3",
   "version": "3.12.3"
  }
 },
 "nbformat": 4,
 "nbformat_minor": 5
}
